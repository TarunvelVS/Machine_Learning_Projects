{
 "cells": [
  {
   "cell_type": "code",
   "execution_count": 1,
   "id": "cbcab355",
   "metadata": {},
   "outputs": [],
   "source": [
    "import pandas as pd\n",
    "import numpy as np\n",
    "import matplotlib.pyplot as plt\n",
    "import seaborn as sns\n",
    "from ipywidgets import interact"
   ]
  },
  {
   "cell_type": "code",
   "execution_count": 2,
   "id": "a50b0b70",
   "metadata": {},
   "outputs": [],
   "source": [
    "A_data = pd.read_csv('Agri_Data.csv')"
   ]
  },
  {
   "cell_type": "code",
   "execution_count": 3,
   "id": "67901d99",
   "metadata": {},
   "outputs": [
    {
     "data": {
      "text/plain": [
       "(2200, 8)"
      ]
     },
     "execution_count": 3,
     "metadata": {},
     "output_type": "execute_result"
    }
   ],
   "source": [
    "A_data.shape"
   ]
  },
  {
   "cell_type": "code",
   "execution_count": 4,
   "id": "1df2ac87",
   "metadata": {},
   "outputs": [
    {
     "data": {
      "text/html": [
       "<div>\n",
       "<style scoped>\n",
       "    .dataframe tbody tr th:only-of-type {\n",
       "        vertical-align: middle;\n",
       "    }\n",
       "\n",
       "    .dataframe tbody tr th {\n",
       "        vertical-align: top;\n",
       "    }\n",
       "\n",
       "    .dataframe thead th {\n",
       "        text-align: right;\n",
       "    }\n",
       "</style>\n",
       "<table border=\"1\" class=\"dataframe\">\n",
       "  <thead>\n",
       "    <tr style=\"text-align: right;\">\n",
       "      <th></th>\n",
       "      <th>N</th>\n",
       "      <th>P</th>\n",
       "      <th>K</th>\n",
       "      <th>temperature</th>\n",
       "      <th>humidity</th>\n",
       "      <th>ph</th>\n",
       "      <th>rainfall</th>\n",
       "      <th>label</th>\n",
       "    </tr>\n",
       "  </thead>\n",
       "  <tbody>\n",
       "    <tr>\n",
       "      <th>0</th>\n",
       "      <td>90</td>\n",
       "      <td>42</td>\n",
       "      <td>43</td>\n",
       "      <td>20.879744</td>\n",
       "      <td>82.002744</td>\n",
       "      <td>6.502985</td>\n",
       "      <td>202.935536</td>\n",
       "      <td>rice</td>\n",
       "    </tr>\n",
       "    <tr>\n",
       "      <th>1</th>\n",
       "      <td>85</td>\n",
       "      <td>58</td>\n",
       "      <td>41</td>\n",
       "      <td>21.770462</td>\n",
       "      <td>80.319644</td>\n",
       "      <td>7.038096</td>\n",
       "      <td>226.655537</td>\n",
       "      <td>rice</td>\n",
       "    </tr>\n",
       "    <tr>\n",
       "      <th>2</th>\n",
       "      <td>60</td>\n",
       "      <td>55</td>\n",
       "      <td>44</td>\n",
       "      <td>23.004459</td>\n",
       "      <td>82.320763</td>\n",
       "      <td>7.840207</td>\n",
       "      <td>263.964248</td>\n",
       "      <td>rice</td>\n",
       "    </tr>\n",
       "    <tr>\n",
       "      <th>3</th>\n",
       "      <td>74</td>\n",
       "      <td>35</td>\n",
       "      <td>40</td>\n",
       "      <td>26.491096</td>\n",
       "      <td>80.158363</td>\n",
       "      <td>6.980401</td>\n",
       "      <td>242.864034</td>\n",
       "      <td>rice</td>\n",
       "    </tr>\n",
       "    <tr>\n",
       "      <th>4</th>\n",
       "      <td>78</td>\n",
       "      <td>42</td>\n",
       "      <td>42</td>\n",
       "      <td>20.130175</td>\n",
       "      <td>81.604873</td>\n",
       "      <td>7.628473</td>\n",
       "      <td>262.717340</td>\n",
       "      <td>rice</td>\n",
       "    </tr>\n",
       "  </tbody>\n",
       "</table>\n",
       "</div>"
      ],
      "text/plain": [
       "    N   P   K  temperature   humidity        ph    rainfall label\n",
       "0  90  42  43    20.879744  82.002744  6.502985  202.935536  rice\n",
       "1  85  58  41    21.770462  80.319644  7.038096  226.655537  rice\n",
       "2  60  55  44    23.004459  82.320763  7.840207  263.964248  rice\n",
       "3  74  35  40    26.491096  80.158363  6.980401  242.864034  rice\n",
       "4  78  42  42    20.130175  81.604873  7.628473  262.717340  rice"
      ]
     },
     "execution_count": 4,
     "metadata": {},
     "output_type": "execute_result"
    }
   ],
   "source": [
    "A_data.head()"
   ]
  },
  {
   "cell_type": "code",
   "execution_count": 70,
   "id": "fe63fcf9",
   "metadata": {},
   "outputs": [
    {
     "name": "stdout",
     "output_type": "stream",
     "text": [
      "<class 'pandas.core.frame.DataFrame'>\n",
      "RangeIndex: 2200 entries, 0 to 2199\n",
      "Data columns (total 8 columns):\n",
      " #   Column       Non-Null Count  Dtype  \n",
      "---  ------       --------------  -----  \n",
      " 0   N            2200 non-null   int64  \n",
      " 1   P            2200 non-null   int64  \n",
      " 2   K            2200 non-null   int64  \n",
      " 3   temperature  2200 non-null   float64\n",
      " 4   humidity     2200 non-null   float64\n",
      " 5   ph           2200 non-null   float64\n",
      " 6   rainfall     2200 non-null   float64\n",
      " 7   label        2200 non-null   object \n",
      "dtypes: float64(4), int64(3), object(1)\n",
      "memory usage: 137.6+ KB\n"
     ]
    }
   ],
   "source": [
    "A_data.info()"
   ]
  },
  {
   "cell_type": "code",
   "execution_count": 6,
   "id": "bf2fb806",
   "metadata": {},
   "outputs": [
    {
     "data": {
      "text/plain": [
       "N              0\n",
       "P              0\n",
       "K              0\n",
       "temperature    0\n",
       "humidity       0\n",
       "ph             0\n",
       "rainfall       0\n",
       "label          0\n",
       "dtype: int64"
      ]
     },
     "execution_count": 6,
     "metadata": {},
     "output_type": "execute_result"
    }
   ],
   "source": [
    "A_data.isnull().sum()"
   ]
  },
  {
   "cell_type": "code",
   "execution_count": 8,
   "id": "2b17b51b",
   "metadata": {},
   "outputs": [
    {
     "data": {
      "text/plain": [
       "rice           100\n",
       "maize          100\n",
       "jute           100\n",
       "cotton         100\n",
       "coconut        100\n",
       "papaya         100\n",
       "orange         100\n",
       "apple          100\n",
       "muskmelon      100\n",
       "watermelon     100\n",
       "grapes         100\n",
       "mango          100\n",
       "banana         100\n",
       "pomegranate    100\n",
       "lentil         100\n",
       "blackgram      100\n",
       "mungbean       100\n",
       "mothbeans      100\n",
       "pigeonpeas     100\n",
       "kidneybeans    100\n",
       "chickpea       100\n",
       "coffee         100\n",
       "Name: label, dtype: int64"
      ]
     },
     "execution_count": 8,
     "metadata": {},
     "output_type": "execute_result"
    }
   ],
   "source": [
    " A_data['label'].value_counts()"
   ]
  },
  {
   "cell_type": "code",
   "execution_count": 10,
   "id": "2f4dd246",
   "metadata": {},
   "outputs": [
    {
     "data": {
      "text/plain": [
       "50.551818181818184"
      ]
     },
     "execution_count": 10,
     "metadata": {},
     "output_type": "execute_result"
    }
   ],
   "source": [
    "A_data['N'].mean()"
   ]
  },
  {
   "cell_type": "code",
   "execution_count": 11,
   "id": "96beb907",
   "metadata": {},
   "outputs": [
    {
     "data": {
      "text/plain": [
       "53.36272727272727"
      ]
     },
     "execution_count": 11,
     "metadata": {},
     "output_type": "execute_result"
    }
   ],
   "source": [
    "A_data['P'].mean()"
   ]
  },
  {
   "cell_type": "code",
   "execution_count": 12,
   "id": "a8bc4472",
   "metadata": {},
   "outputs": [
    {
     "data": {
      "text/plain": [
       "48.14909090909091"
      ]
     },
     "execution_count": 12,
     "metadata": {},
     "output_type": "execute_result"
    }
   ],
   "source": [
    "A_data['K'].mean()"
   ]
  },
  {
   "cell_type": "code",
   "execution_count": 13,
   "id": "cb716b60",
   "metadata": {},
   "outputs": [
    {
     "data": {
      "text/plain": [
       "25.616243851779533"
      ]
     },
     "execution_count": 13,
     "metadata": {},
     "output_type": "execute_result"
    }
   ],
   "source": [
    "A_data['temperature'].mean()"
   ]
  },
  {
   "cell_type": "code",
   "execution_count": 14,
   "id": "08c6b469",
   "metadata": {},
   "outputs": [
    {
     "data": {
      "text/plain": [
       "71.48177921778648"
      ]
     },
     "execution_count": 14,
     "metadata": {},
     "output_type": "execute_result"
    }
   ],
   "source": [
    "A_data['humidity'].mean()"
   ]
  },
  {
   "cell_type": "code",
   "execution_count": 15,
   "id": "4653d09d",
   "metadata": {},
   "outputs": [
    {
     "data": {
      "text/plain": [
       "6.469480065256369"
      ]
     },
     "execution_count": 15,
     "metadata": {},
     "output_type": "execute_result"
    }
   ],
   "source": [
    "A_data['ph'].mean()"
   ]
  },
  {
   "cell_type": "code",
   "execution_count": 16,
   "id": "b783f60d",
   "metadata": {},
   "outputs": [
    {
     "data": {
      "text/plain": [
       "103.46365541576832"
      ]
     },
     "execution_count": 16,
     "metadata": {},
     "output_type": "execute_result"
    }
   ],
   "source": [
    "A_data['rainfall'].mean()"
   ]
  },
  {
   "cell_type": "code",
   "execution_count": 19,
   "id": "950f23a1",
   "metadata": {},
   "outputs": [
    {
     "data": {
      "application/vnd.jupyter.widget-view+json": {
       "model_id": "f26fe0351ea244308b51d07393d12590",
       "version_major": 2,
       "version_minor": 0
      },
      "text/plain": [
       "interactive(children=(Dropdown(description='crops', options=('rice', 'maize', 'jute', 'cotton', 'coconut', 'pa…"
      ]
     },
     "metadata": {},
     "output_type": "display_data"
    }
   ],
   "source": [
    "@interact\n",
    "def summary(crops=list(A_data['label'].value_counts().index)):\n",
    "    x=A_data[A_data['label']==crops]\n",
    "    print(\"Stats for Nitogen\")\n",
    "    print(\"Min Req :\",x['N'].min())\n",
    "    print(\"Average Req :\",x['N'].mean())\n",
    "    print(\"Max Req :\",x['N'].max())\n",
    "    print(\"/n\")\n",
    "\n",
    "    print(\"Stats for Phosphorous\")\n",
    "    print(\"Min Req :\",x['P'].min())\n",
    "    print(\"Average Req :\",x['P'].mean())\n",
    "    print(\"Max Req :\",x['P'].max())\n",
    "    print(\"/n\")\n",
    "    \n",
    "    print(\"Stats for Potassium\")\n",
    "    print(\"Min Req :\",x['K'].min())\n",
    "    print(\"Average Req :\",x['K'].mean())\n",
    "    print(\"Max Req :\",x['K'].max())\n",
    "    print(\"/n\")\n",
    "    \n",
    "    print(\"Stats for Temperature\")\n",
    "    print(\"Min Req :\",x['temperature'].min())\n",
    "    print(\"Average Req :\",x['temperature'].mean())\n",
    "    print(\"Max Req :\",x['temperature'].max())\n",
    "    print(\"/n\")\n",
    "    \n",
    "    print(\"Stats for Humidity\")\n",
    "    print(\"Min Req :\",x['humidity'].min())\n",
    "    print(\"Average Req :\",x['humidity'].mean())\n",
    "    print(\"Max Req :\",x['humidity'].max())\n",
    "    print(\"/n\")\n",
    "    \n",
    "    print(\"Stats for ph\")\n",
    "    print(\"Min Req :\",x['ph'].min())\n",
    "    print(\"Average Req :\",x['ph'].mean())\n",
    "    print(\"Max Req :\",x['ph'].max())\n",
    "    print(\"/n\")\n",
    "    \n",
    "    print(\"Stats for rainfall\")\n",
    "    print(\"Min Req :\",x['rainfall'].min())\n",
    "    print(\"Average Req :\",x['rainfall'].mean())\n",
    "    print(\"Max Req :\",x['rainfall'].max())\n",
    "    print(\"/n\")"
   ]
  },
  {
   "cell_type": "markdown",
   "id": "0d273aa1",
   "metadata": {},
   "source": [
    "### Distribution"
   ]
  },
  {
   "cell_type": "code",
   "execution_count": 69,
   "id": "e30c79b0",
   "metadata": {},
   "outputs": [
    {
     "data": {
      "image/png": "[encoded data removed]",
      "text/plain": [
       "<Figure size 1440x648 with 7 Axes>"
      ]
     },
     "metadata": {
      "needs_background": "light"
     },
     "output_type": "display_data"
    }
   ],
   "source": [
    "import warnings\n",
    "warnings.filterwarnings('ignore')\n",
    "plt.rcParams['figure.figsize'] = (20,9)\n",
    "\n",
    "plt.subplot(2,4,1)\n",
    "sns.distplot(A_data['N'])\n",
    "plt.xlabel('Ratio of Nitrogen')\n",
    "plt.grid()\n",
    "\n",
    "plt.subplot(2,4,2)\n",
    "sns.distplot(A_data['P'])\n",
    "plt.xlabel('Ratio of Phosphorous')\n",
    "plt.grid()\n",
    "\n",
    "plt.subplot(2,4,3)\n",
    "sns.distplot(A_data['K'])\n",
    "plt.xlabel('Ratio of Potassium')\n",
    "plt.grid()\n",
    "\n",
    "plt.subplot(2,4,4)\n",
    "sns.distplot(A_data['temperature'])\n",
    "plt.xlabel('Ratio of Temperature')\n",
    "plt.grid()\n",
    "\n",
    "plt.subplot(2,4,5)\n",
    "sns.distplot(A_data['humidity'])\n",
    "plt.xlabel('Ratio of Humidity')\n",
    "plt.grid()\n",
    "\n",
    "plt.subplot(2,4,6)\n",
    "sns.distplot(A_data['ph'])\n",
    "plt.xlabel('Ratio of ph')\n",
    "plt.grid()\n",
    "\n",
    "plt.subplot(2,4,7)\n",
    "sns.distplot(A_data['rainfall'])\n",
    "plt.xlabel('Ratio of rainfall')\n",
    "plt.grid()"
   ]
  },
  {
   "cell_type": "markdown",
   "id": "7ab5e390",
   "metadata": {},
   "source": [
    "### Analysis of Patterns in the data set"
   ]
  },
  {
   "cell_type": "code",
   "execution_count": 25,
   "id": "6458026a",
   "metadata": {},
   "outputs": [
    {
     "data": {
      "text/plain": [
       "array(['banana', 'watermelon', 'muskmelon', 'cotton', 'coffee'],\n",
       "      dtype=object)"
      ]
     },
     "execution_count": 25,
     "metadata": {},
     "output_type": "execute_result"
    }
   ],
   "source": [
    "# Crops requiring higher nitrogen contents\n",
    "\n",
    "A_data[A_data['N']>100]['label'].unique()"
   ]
  },
  {
   "cell_type": "code",
   "execution_count": 26,
   "id": "54a93665",
   "metadata": {},
   "outputs": [
    {
     "data": {
      "text/plain": [
       "array(['chickpea', 'kidneybeans', 'pigeonpeas', 'mothbeans', 'mungbean',\n",
       "       'blackgram', 'lentil', 'pomegranate', 'mango', 'grapes', 'apple',\n",
       "       'orange', 'coconut'], dtype=object)"
      ]
     },
     "execution_count": 26,
     "metadata": {},
     "output_type": "execute_result"
    }
   ],
   "source": [
    "# crops requiring lesser nitrogen contents\n",
    "\n",
    "A_data[A_data['N']<25]['label'].unique()"
   ]
  },
  {
   "cell_type": "code",
   "execution_count": 27,
   "id": "01e2b68c",
   "metadata": {},
   "outputs": [
    {
     "data": {
      "text/plain": [
       "array(['grapes', 'apple'], dtype=object)"
      ]
     },
     "execution_count": 27,
     "metadata": {},
     "output_type": "execute_result"
    }
   ],
   "source": [
    "# crops requiring higher phosphorus\n",
    "A_data[A_data['P']>100]['label'].unique()"
   ]
  },
  {
   "cell_type": "code",
   "execution_count": 28,
   "id": "1dd1bd52",
   "metadata": {},
   "outputs": [
    {
     "data": {
      "text/plain": [
       "array(['grapes', 'apple'], dtype=object)"
      ]
     },
     "execution_count": 28,
     "metadata": {},
     "output_type": "execute_result"
    }
   ],
   "source": [
    "# crops requiring higher Pottasium content\n",
    "A_data[A_data['K']>100]['label'].unique()"
   ]
  },
  {
   "cell_type": "code",
   "execution_count": 30,
   "id": "a1be1325",
   "metadata": {},
   "outputs": [
    {
     "data": {
      "text/plain": [
       "array(['rice', 'papaya', 'coconut'], dtype=object)"
      ]
     },
     "execution_count": 30,
     "metadata": {},
     "output_type": "execute_result"
    }
   ],
   "source": [
    "# High rainfall requiring crops\n",
    "A_data[A_data['rainfall']>200]['label'].unique()"
   ]
  },
  {
   "cell_type": "code",
   "execution_count": 33,
   "id": "fefa3d9b",
   "metadata": {},
   "outputs": [
    {
     "data": {
      "text/plain": [
       "array(['grapes', 'papaya'], dtype=object)"
      ]
     },
     "execution_count": 33,
     "metadata": {},
     "output_type": "execute_result"
    }
   ],
   "source": [
    "# High temperature requiring crops\n",
    "\n",
    "A_data[A_data['temperature']>38]['label'].unique()"
   ]
  },
  {
   "cell_type": "code",
   "execution_count": 34,
   "id": "e1bac91b",
   "metadata": {},
   "outputs": [
    {
     "data": {
      "text/plain": [
       "array(['chickpea', 'kidneybeans', 'pigeonpeas'], dtype=object)"
      ]
     },
     "execution_count": 34,
     "metadata": {},
     "output_type": "execute_result"
    }
   ],
   "source": [
    "# low humidity \n",
    "\n",
    "A_data[A_data['humidity']<40]['label'].unique()"
   ]
  },
  {
   "cell_type": "code",
   "execution_count": 35,
   "id": "6fc13520",
   "metadata": {},
   "outputs": [
    {
     "data": {
      "text/plain": [
       "array([], dtype=object)"
      ]
     },
     "execution_count": 35,
     "metadata": {},
     "output_type": "execute_result"
    }
   ],
   "source": [
    "# low pH\n",
    "\n",
    "A_data[A_data['ph']<3.5]['label'].unique()"
   ]
  },
  {
   "cell_type": "code",
   "execution_count": 36,
   "id": "41e6412f",
   "metadata": {},
   "outputs": [
    {
     "data": {
      "text/plain": [
       "array(['mothbeans'], dtype=object)"
      ]
     },
     "execution_count": 36,
     "metadata": {},
     "output_type": "execute_result"
    }
   ],
   "source": [
    "# low pH\n",
    "\n",
    "A_data[A_data['ph']<4]['label'].unique()"
   ]
  },
  {
   "cell_type": "code",
   "execution_count": 40,
   "id": "49a63d08",
   "metadata": {},
   "outputs": [
    {
     "data": {
      "text/plain": [
       "array(['pigeonpeas', 'mango', 'grapes', 'papaya'], dtype=object)"
      ]
     },
     "execution_count": 40,
     "metadata": {},
     "output_type": "execute_result"
    }
   ],
   "source": [
    "# Summer Crops\n",
    "\n",
    "A_data[(A_data['humidity']>50) & (A_data['temperature']>35)]['label'].unique()"
   ]
  },
  {
   "cell_type": "code",
   "execution_count": 41,
   "id": "846ac55b",
   "metadata": {},
   "outputs": [
    {
     "data": {
      "text/plain": [
       "array(['maize', 'pigeonpeas', 'lentil', 'pomegranate', 'grapes', 'orange'],\n",
       "      dtype=object)"
      ]
     },
     "execution_count": 41,
     "metadata": {},
     "output_type": "execute_result"
    }
   ],
   "source": [
    "# Winter Crops\n",
    "\n",
    "A_data[(A_data['humidity']>30) & (A_data['temperature']<20)]['label'].unique()"
   ]
  },
  {
   "cell_type": "code",
   "execution_count": 42,
   "id": "bb7c1cf2",
   "metadata": {},
   "outputs": [
    {
     "data": {
      "text/plain": [
       "array(['rice', 'papaya', 'coconut'], dtype=object)"
      ]
     },
     "execution_count": 42,
     "metadata": {},
     "output_type": "execute_result"
    }
   ],
   "source": [
    "# Rainy Crops\n",
    "\n",
    "A_data[(A_data['humidity']>30) & (A_data['rainfall']>200)]['label'].unique()"
   ]
  },
  {
   "cell_type": "markdown",
   "id": "c36318d4",
   "metadata": {},
   "source": [
    "## Model Creation"
   ]
  },
  {
   "cell_type": "code",
   "execution_count": 44,
   "id": "1898e18a",
   "metadata": {},
   "outputs": [
    {
     "data": {
      "text/plain": [
       "(2200, 7)"
      ]
     },
     "execution_count": 44,
     "metadata": {},
     "output_type": "execute_result"
    }
   ],
   "source": [
    "from sklearn.cluster import KMeans\n",
    "import warnings\n",
    "warnings.filterwarnings('ignore')\n",
    "\n",
    "x=A_data.loc[:,['N','P','K','temperature','ph','humidity','rainfall']].values\n",
    "\n",
    "x.shape"
   ]
  },
  {
   "cell_type": "code",
   "execution_count": 46,
   "id": "47477d94",
   "metadata": {},
   "outputs": [
    {
     "data": {
      "text/html": [
       "<div>\n",
       "<style scoped>\n",
       "    .dataframe tbody tr th:only-of-type {\n",
       "        vertical-align: middle;\n",
       "    }\n",
       "\n",
       "    .dataframe tbody tr th {\n",
       "        vertical-align: top;\n",
       "    }\n",
       "\n",
       "    .dataframe thead th {\n",
       "        text-align: right;\n",
       "    }\n",
       "</style>\n",
       "<table border=\"1\" class=\"dataframe\">\n",
       "  <thead>\n",
       "    <tr style=\"text-align: right;\">\n",
       "      <th></th>\n",
       "      <th>0</th>\n",
       "      <th>1</th>\n",
       "      <th>2</th>\n",
       "      <th>3</th>\n",
       "      <th>4</th>\n",
       "      <th>5</th>\n",
       "      <th>6</th>\n",
       "    </tr>\n",
       "  </thead>\n",
       "  <tbody>\n",
       "    <tr>\n",
       "      <th>0</th>\n",
       "      <td>90.0</td>\n",
       "      <td>42.0</td>\n",
       "      <td>43.0</td>\n",
       "      <td>20.879744</td>\n",
       "      <td>6.502985</td>\n",
       "      <td>82.002744</td>\n",
       "      <td>202.935536</td>\n",
       "    </tr>\n",
       "    <tr>\n",
       "      <th>1</th>\n",
       "      <td>85.0</td>\n",
       "      <td>58.0</td>\n",
       "      <td>41.0</td>\n",
       "      <td>21.770462</td>\n",
       "      <td>7.038096</td>\n",
       "      <td>80.319644</td>\n",
       "      <td>226.655537</td>\n",
       "    </tr>\n",
       "    <tr>\n",
       "      <th>2</th>\n",
       "      <td>60.0</td>\n",
       "      <td>55.0</td>\n",
       "      <td>44.0</td>\n",
       "      <td>23.004459</td>\n",
       "      <td>7.840207</td>\n",
       "      <td>82.320763</td>\n",
       "      <td>263.964248</td>\n",
       "    </tr>\n",
       "    <tr>\n",
       "      <th>3</th>\n",
       "      <td>74.0</td>\n",
       "      <td>35.0</td>\n",
       "      <td>40.0</td>\n",
       "      <td>26.491096</td>\n",
       "      <td>6.980401</td>\n",
       "      <td>80.158363</td>\n",
       "      <td>242.864034</td>\n",
       "    </tr>\n",
       "    <tr>\n",
       "      <th>4</th>\n",
       "      <td>78.0</td>\n",
       "      <td>42.0</td>\n",
       "      <td>42.0</td>\n",
       "      <td>20.130175</td>\n",
       "      <td>7.628473</td>\n",
       "      <td>81.604873</td>\n",
       "      <td>262.717340</td>\n",
       "    </tr>\n",
       "  </tbody>\n",
       "</table>\n",
       "</div>"
      ],
      "text/plain": [
       "      0     1     2          3         4          5           6\n",
       "0  90.0  42.0  43.0  20.879744  6.502985  82.002744  202.935536\n",
       "1  85.0  58.0  41.0  21.770462  7.038096  80.319644  226.655537\n",
       "2  60.0  55.0  44.0  23.004459  7.840207  82.320763  263.964248\n",
       "3  74.0  35.0  40.0  26.491096  6.980401  80.158363  242.864034\n",
       "4  78.0  42.0  42.0  20.130175  7.628473  81.604873  262.717340"
      ]
     },
     "execution_count": 46,
     "metadata": {},
     "output_type": "execute_result"
    }
   ],
   "source": [
    "x_data = pd.DataFrame(x)\n",
    "x_data.head()"
   ]
  },
  {
   "cell_type": "code",
   "execution_count": 47,
   "id": "1ce4a7c1",
   "metadata": {},
   "outputs": [
    {
     "data": {
      "image/png": "[encoded data removed]",
      "text/plain": [
       "<Figure size 720x288 with 1 Axes>"
      ]
     },
     "metadata": {
      "needs_background": "light"
     },
     "output_type": "display_data"
    }
   ],
   "source": [
    "plt.rcParams['figure.figsize'] = (10,4)\n",
    "\n",
    "list_1 = []\n",
    "\n",
    "for i in range(1,11):\n",
    "    km = KMeans(n_clusters = i, init = 'k-means++', max_iter = 300, n_init = 10, random_state = 0)\n",
    "    km.fit(x)\n",
    "    list_1.append(km.inertia_)\n",
    "    \n",
    "plt.plot(range(1,11),list_1)\n",
    "plt.title('The Elbow Method')\n",
    "plt.xlabel('No of Clusters')\n",
    "plt.ylabel('list_1')\n",
    "plt.show()"
   ]
  },
  {
   "cell_type": "code",
   "execution_count": 49,
   "id": "6bc54fae",
   "metadata": {},
   "outputs": [
    {
     "data": {
      "text/plain": [
       "array(['rice', 'pigeonpeas', 'papaya', 'coconut', 'jute', 'coffee'],\n",
       "      dtype=object)"
      ]
     },
     "execution_count": 49,
     "metadata": {},
     "output_type": "execute_result"
    }
   ],
   "source": [
    "km = KMeans(n_clusters = 4, init = 'k-means++', max_iter = 300, n_init = 10, random_state = 0)\n",
    "y_means = km.fit_predict(x)\n",
    "\n",
    "a=A_data['label']\n",
    "y_means=pd.DataFrame(y_means)\n",
    "z=pd.concat([y_means,a],axis=1)\n",
    "z=z.rename(columns = {0:'cluster'})\n",
    "\n",
    "z[z['cluster']==0]['label'].unique()"
   ]
  },
  {
   "cell_type": "code",
   "execution_count": 50,
   "id": "11a61e60",
   "metadata": {},
   "outputs": [
    {
     "data": {
      "text/plain": [
       "array(['maize', 'banana', 'watermelon', 'muskmelon', 'papaya', 'cotton',\n",
       "       'coffee'], dtype=object)"
      ]
     },
     "execution_count": 50,
     "metadata": {},
     "output_type": "execute_result"
    }
   ],
   "source": [
    "z[z['cluster']==1]['label'].unique()"
   ]
  },
  {
   "cell_type": "code",
   "execution_count": 51,
   "id": "b6f9fb89",
   "metadata": {},
   "outputs": [
    {
     "data": {
      "text/plain": [
       "array(['grapes', 'apple'], dtype=object)"
      ]
     },
     "execution_count": 51,
     "metadata": {},
     "output_type": "execute_result"
    }
   ],
   "source": [
    "z[z['cluster']==2]['label'].unique()"
   ]
  },
  {
   "cell_type": "code",
   "execution_count": 52,
   "id": "b8ce1971",
   "metadata": {},
   "outputs": [
    {
     "data": {
      "text/plain": [
       "array(['maize', 'chickpea', 'kidneybeans', 'pigeonpeas', 'mothbeans',\n",
       "       'mungbean', 'blackgram', 'lentil', 'pomegranate', 'mango',\n",
       "       'orange', 'papaya', 'coconut'], dtype=object)"
      ]
     },
     "execution_count": 52,
     "metadata": {},
     "output_type": "execute_result"
    }
   ],
   "source": [
    "z[z['cluster']==3]['label'].unique()"
   ]
  },
  {
   "cell_type": "code",
   "execution_count": 53,
   "id": "01b47278",
   "metadata": {},
   "outputs": [
    {
     "data": {
      "text/plain": [
       "array([], dtype=object)"
      ]
     },
     "execution_count": 53,
     "metadata": {},
     "output_type": "execute_result"
    }
   ],
   "source": [
    "z[z['cluster']==4]['label'].unique()"
   ]
  },
  {
   "cell_type": "code",
   "execution_count": 54,
   "id": "59bd2966",
   "metadata": {},
   "outputs": [
    {
     "data": {
      "text/plain": [
       "(2200, 7)"
      ]
     },
     "execution_count": 54,
     "metadata": {},
     "output_type": "execute_result"
    }
   ],
   "source": [
    "y=A_data['label']\n",
    "x=A_data.drop(['label'],axis=1)\n",
    "\n",
    "x.shape"
   ]
  },
  {
   "cell_type": "code",
   "execution_count": 55,
   "id": "1d71d260",
   "metadata": {},
   "outputs": [
    {
     "data": {
      "text/plain": [
       "(2200,)"
      ]
     },
     "execution_count": 55,
     "metadata": {},
     "output_type": "execute_result"
    }
   ],
   "source": [
    "y.shape"
   ]
  },
  {
   "cell_type": "code",
   "execution_count": 56,
   "id": "f635516f",
   "metadata": {},
   "outputs": [
    {
     "data": {
      "text/plain": [
       "(1760, 7)"
      ]
     },
     "execution_count": 56,
     "metadata": {},
     "output_type": "execute_result"
    }
   ],
   "source": [
    "from sklearn.model_selection import train_test_split\n",
    "\n",
    "x_train, x_test, y_train, y_test = train_test_split(x,y,test_size=0.2,random_state=0)\n",
    "\n",
    "x_train.shape"
   ]
  },
  {
   "cell_type": "code",
   "execution_count": 57,
   "id": "49942c5f",
   "metadata": {},
   "outputs": [
    {
     "data": {
      "text/plain": [
       "(1760,)"
      ]
     },
     "execution_count": 57,
     "metadata": {},
     "output_type": "execute_result"
    }
   ],
   "source": [
    "y_train.shape"
   ]
  },
  {
   "cell_type": "code",
   "execution_count": 58,
   "id": "e407039b",
   "metadata": {},
   "outputs": [
    {
     "data": {
      "text/plain": [
       "(440, 7)"
      ]
     },
     "execution_count": 58,
     "metadata": {},
     "output_type": "execute_result"
    }
   ],
   "source": [
    "x_test.shape"
   ]
  },
  {
   "cell_type": "code",
   "execution_count": 59,
   "id": "a4e44ce4",
   "metadata": {},
   "outputs": [
    {
     "data": {
      "text/plain": [
       "(440,)"
      ]
     },
     "execution_count": 59,
     "metadata": {},
     "output_type": "execute_result"
    }
   ],
   "source": [
    "y_test.shape"
   ]
  },
  {
   "cell_type": "code",
   "execution_count": 60,
   "id": "9fb82404",
   "metadata": {},
   "outputs": [],
   "source": [
    "# Predictive Model\n",
    "\n",
    "from sklearn.linear_model import LogisticRegression\n",
    "\n",
    "model = LogisticRegression()\n",
    "model.fit(x_train,y_train)\n",
    "y_pred = model.predict(x_test)"
   ]
  },
  {
   "cell_type": "code",
   "execution_count": 62,
   "id": "b41dd89c",
   "metadata": {
    "scrolled": true
   },
   "outputs": [
    {
     "name": "stdout",
     "output_type": "stream",
     "text": [
      "              precision    recall  f1-score   support\n",
      "\n",
      "       apple       1.00      1.00      1.00        18\n",
      "      banana       1.00      1.00      1.00        18\n",
      "   blackgram       0.86      0.82      0.84        22\n",
      "    chickpea       1.00      1.00      1.00        23\n",
      "     coconut       1.00      1.00      1.00        15\n",
      "      coffee       1.00      1.00      1.00        17\n",
      "      cotton       0.89      1.00      0.94        16\n",
      "      grapes       1.00      1.00      1.00        18\n",
      "        jute       0.84      1.00      0.91        21\n",
      " kidneybeans       1.00      1.00      1.00        20\n",
      "      lentil       0.94      0.94      0.94        17\n",
      "       maize       0.94      0.89      0.91        18\n",
      "       mango       1.00      1.00      1.00        21\n",
      "   mothbeans       0.88      0.92      0.90        25\n",
      "    mungbean       1.00      1.00      1.00        17\n",
      "   muskmelon       1.00      1.00      1.00        23\n",
      "      orange       1.00      1.00      1.00        23\n",
      "      papaya       1.00      0.95      0.98        21\n",
      "  pigeonpeas       1.00      1.00      1.00        22\n",
      " pomegranate       1.00      1.00      1.00        23\n",
      "        rice       1.00      0.84      0.91        25\n",
      "  watermelon       1.00      1.00      1.00        17\n",
      "\n",
      "    accuracy                           0.97       440\n",
      "   macro avg       0.97      0.97      0.97       440\n",
      "weighted avg       0.97      0.97      0.97       440\n",
      "\n"
     ]
    }
   ],
   "source": [
    "from sklearn.metrics import classification_report\n",
    "\n",
    "cr = classification_report(y_test, y_pred)\n",
    "print(cr)"
   ]
  },
  {
   "cell_type": "markdown",
   "id": "d6d09360",
   "metadata": {},
   "source": [
    "## Results"
   ]
  },
  {
   "cell_type": "code",
   "execution_count": 64,
   "id": "0fd3a8ac",
   "metadata": {},
   "outputs": [
    {
     "name": "stdout",
     "output_type": "stream",
     "text": [
      "Suggested Crop for above mentioned condition: ['rice']\n"
     ]
    }
   ],
   "source": [
    "prediction = model.predict((np.array([[90,40,40,20,80,7,200]])))\n",
    "print(\"Suggested Crop for above mentioned condition:\", prediction)"
   ]
  },
  {
   "cell_type": "code",
   "execution_count": 66,
   "id": "5e5002c7",
   "metadata": {
    "scrolled": true
   },
   "outputs": [
    {
     "data": {
      "text/html": [
       "<div>\n",
       "<style scoped>\n",
       "    .dataframe tbody tr th:only-of-type {\n",
       "        vertical-align: middle;\n",
       "    }\n",
       "\n",
       "    .dataframe tbody tr th {\n",
       "        vertical-align: top;\n",
       "    }\n",
       "\n",
       "    .dataframe thead th {\n",
       "        text-align: right;\n",
       "    }\n",
       "</style>\n",
       "<table border=\"1\" class=\"dataframe\">\n",
       "  <thead>\n",
       "    <tr style=\"text-align: right;\">\n",
       "      <th></th>\n",
       "      <th>N</th>\n",
       "      <th>P</th>\n",
       "      <th>K</th>\n",
       "      <th>temperature</th>\n",
       "      <th>humidity</th>\n",
       "      <th>ph</th>\n",
       "      <th>rainfall</th>\n",
       "      <th>label</th>\n",
       "    </tr>\n",
       "  </thead>\n",
       "  <tbody>\n",
       "    <tr>\n",
       "      <th>0</th>\n",
       "      <td>90</td>\n",
       "      <td>42</td>\n",
       "      <td>43</td>\n",
       "      <td>20.879744</td>\n",
       "      <td>82.002744</td>\n",
       "      <td>6.502985</td>\n",
       "      <td>202.935536</td>\n",
       "      <td>rice</td>\n",
       "    </tr>\n",
       "    <tr>\n",
       "      <th>1</th>\n",
       "      <td>85</td>\n",
       "      <td>58</td>\n",
       "      <td>41</td>\n",
       "      <td>21.770462</td>\n",
       "      <td>80.319644</td>\n",
       "      <td>7.038096</td>\n",
       "      <td>226.655537</td>\n",
       "      <td>rice</td>\n",
       "    </tr>\n",
       "    <tr>\n",
       "      <th>2</th>\n",
       "      <td>60</td>\n",
       "      <td>55</td>\n",
       "      <td>44</td>\n",
       "      <td>23.004459</td>\n",
       "      <td>82.320763</td>\n",
       "      <td>7.840207</td>\n",
       "      <td>263.964248</td>\n",
       "      <td>rice</td>\n",
       "    </tr>\n",
       "    <tr>\n",
       "      <th>3</th>\n",
       "      <td>74</td>\n",
       "      <td>35</td>\n",
       "      <td>40</td>\n",
       "      <td>26.491096</td>\n",
       "      <td>80.158363</td>\n",
       "      <td>6.980401</td>\n",
       "      <td>242.864034</td>\n",
       "      <td>rice</td>\n",
       "    </tr>\n",
       "    <tr>\n",
       "      <th>4</th>\n",
       "      <td>78</td>\n",
       "      <td>42</td>\n",
       "      <td>42</td>\n",
       "      <td>20.130175</td>\n",
       "      <td>81.604873</td>\n",
       "      <td>7.628473</td>\n",
       "      <td>262.717340</td>\n",
       "      <td>rice</td>\n",
       "    </tr>\n",
       "  </tbody>\n",
       "</table>\n",
       "</div>"
      ],
      "text/plain": [
       "    N   P   K  temperature   humidity        ph    rainfall label\n",
       "0  90  42  43    20.879744  82.002744  6.502985  202.935536  rice\n",
       "1  85  58  41    21.770462  80.319644  7.038096  226.655537  rice\n",
       "2  60  55  44    23.004459  82.320763  7.840207  263.964248  rice\n",
       "3  74  35  40    26.491096  80.158363  6.980401  242.864034  rice\n",
       "4  78  42  42    20.130175  81.604873  7.628473  262.717340  rice"
      ]
     },
     "execution_count": 66,
     "metadata": {},
     "output_type": "execute_result"
    }
   ],
   "source": [
    "A_data.head()"
   ]
  },
  {
   "cell_type": "code",
   "execution_count": 67,
   "id": "65c78886",
   "metadata": {},
   "outputs": [
    {
     "data": {
      "text/html": [
       "<div>\n",
       "<style scoped>\n",
       "    .dataframe tbody tr th:only-of-type {\n",
       "        vertical-align: middle;\n",
       "    }\n",
       "\n",
       "    .dataframe tbody tr th {\n",
       "        vertical-align: top;\n",
       "    }\n",
       "\n",
       "    .dataframe thead th {\n",
       "        text-align: right;\n",
       "    }\n",
       "</style>\n",
       "<table border=\"1\" class=\"dataframe\">\n",
       "  <thead>\n",
       "    <tr style=\"text-align: right;\">\n",
       "      <th></th>\n",
       "      <th>N</th>\n",
       "      <th>P</th>\n",
       "      <th>K</th>\n",
       "      <th>temperature</th>\n",
       "      <th>humidity</th>\n",
       "      <th>ph</th>\n",
       "      <th>rainfall</th>\n",
       "      <th>label</th>\n",
       "    </tr>\n",
       "  </thead>\n",
       "  <tbody>\n",
       "    <tr>\n",
       "      <th>1800</th>\n",
       "      <td>18</td>\n",
       "      <td>30</td>\n",
       "      <td>29</td>\n",
       "      <td>26.762749</td>\n",
       "      <td>92.860569</td>\n",
       "      <td>6.420019</td>\n",
       "      <td>224.590366</td>\n",
       "      <td>coconut</td>\n",
       "    </tr>\n",
       "    <tr>\n",
       "      <th>1801</th>\n",
       "      <td>37</td>\n",
       "      <td>23</td>\n",
       "      <td>28</td>\n",
       "      <td>25.612944</td>\n",
       "      <td>94.313884</td>\n",
       "      <td>5.740055</td>\n",
       "      <td>224.320676</td>\n",
       "      <td>coconut</td>\n",
       "    </tr>\n",
       "    <tr>\n",
       "      <th>1802</th>\n",
       "      <td>13</td>\n",
       "      <td>28</td>\n",
       "      <td>33</td>\n",
       "      <td>28.130115</td>\n",
       "      <td>95.648076</td>\n",
       "      <td>5.686973</td>\n",
       "      <td>151.076190</td>\n",
       "      <td>coconut</td>\n",
       "    </tr>\n",
       "    <tr>\n",
       "      <th>1803</th>\n",
       "      <td>2</td>\n",
       "      <td>21</td>\n",
       "      <td>35</td>\n",
       "      <td>25.028872</td>\n",
       "      <td>91.537209</td>\n",
       "      <td>6.293662</td>\n",
       "      <td>179.824894</td>\n",
       "      <td>coconut</td>\n",
       "    </tr>\n",
       "    <tr>\n",
       "      <th>1804</th>\n",
       "      <td>10</td>\n",
       "      <td>18</td>\n",
       "      <td>35</td>\n",
       "      <td>27.797977</td>\n",
       "      <td>99.645730</td>\n",
       "      <td>6.381975</td>\n",
       "      <td>181.694228</td>\n",
       "      <td>coconut</td>\n",
       "    </tr>\n",
       "  </tbody>\n",
       "</table>\n",
       "</div>"
      ],
      "text/plain": [
       "       N   P   K  temperature   humidity        ph    rainfall    label\n",
       "1800  18  30  29    26.762749  92.860569  6.420019  224.590366  coconut\n",
       "1801  37  23  28    25.612944  94.313884  5.740055  224.320676  coconut\n",
       "1802  13  28  33    28.130115  95.648076  5.686973  151.076190  coconut\n",
       "1803   2  21  35    25.028872  91.537209  6.293662  179.824894  coconut\n",
       "1804  10  18  35    27.797977  99.645730  6.381975  181.694228  coconut"
      ]
     },
     "execution_count": 67,
     "metadata": {},
     "output_type": "execute_result"
    }
   ],
   "source": [
    "A_data[A_data['label']=='coconut'].head()"
   ]
  },
  {
   "cell_type": "code",
   "execution_count": 68,
   "id": "aa9eaf07",
   "metadata": {},
   "outputs": [
    {
     "name": "stdout",
     "output_type": "stream",
     "text": [
      "Suggested Crop for above mentioned condition: ['coconut']\n"
     ]
    }
   ],
   "source": [
    "prediction = model.predict((np.array([[20,30,29,25,90,6,180]])))\n",
    "print(\"Suggested Crop for above mentioned condition:\", prediction)"
   ]
  },
  {
   "cell_type": "code",
   "execution_count": null,
   "id": "f469ebeb",
   "metadata": {},
   "outputs": [],
   "source": []
  }
 ],
 "metadata": {
  "kernelspec": {
   "display_name": "Python 3 (ipykernel)",
   "language": "python",
   "name": "python3"
  },
  "language_info": {
   "codemirror_mode": {
    "name": "ipython",
    "version": 3
   },
   "file_extension": ".py",
   "mimetype": "text/x-python",
   "name": "python",
   "nbconvert_exporter": "python",
   "pygments_lexer": "ipython3",
   "version": "3.9.7"
  }
 },
 "nbformat": 4,
 "nbformat_minor": 5
}
